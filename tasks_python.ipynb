{
 "cells": [
  {
   "cell_type": "markdown",
   "id": "461903f9",
   "metadata": {},
   "source": [
    "### Task 1: NumPy Basics Write a Python script that creates a NumPy array with random integers and performs basic mathematical operations like addition, subtraction, multiplication, and division on it.\n"
   ]
  },
  {
   "cell_type": "code",
   "execution_count": 2,
   "id": "d66ab62a",
   "metadata": {},
   "outputs": [],
   "source": [
    "import numpy as np\n",
    "random_array1=np.random.randint(1,100,10)\n",
    "random_array2=np.random.randint(1,100,10)"
   ]
  },
  {
   "cell_type": "code",
   "execution_count": 3,
   "id": "2ab1639c",
   "metadata": {},
   "outputs": [
    {
     "name": "stdout",
     "output_type": "stream",
     "text": [
      "the sum of arrays: [ 97 180 158  98 123 128  45  93  85 104]\n"
     ]
    }
   ],
   "source": [
    "#sum\n",
    "sum=random_array1+random_array2\n",
    "print(\"the sum of arrays:\",sum)"
   ]
  },
  {
   "cell_type": "code",
   "execution_count": 4,
   "id": "7ed8135b",
   "metadata": {},
   "outputs": [
    {
     "name": "stdout",
     "output_type": "stream",
     "text": [
      "the product of arrays: [1422 8051 6141  720 2376 3520  296 2120 1566 1183]\n"
     ]
    }
   ],
   "source": [
    "#multiplication\n",
    "mul=random_array1*random_array2\n",
    "print(\"the product of arrays:\",mul)"
   ]
  },
  {
   "cell_type": "code",
   "execution_count": 5,
   "id": "a7a11b29",
   "metadata": {},
   "outputs": [
    {
     "name": "stdout",
     "output_type": "stream",
     "text": [
      "the sub of array: [ 61 -14 -20  82 -75  48  29  13  31  78]\n"
     ]
    }
   ],
   "source": [
    "#subtraction\n",
    "sub=random_array1-random_array2\n",
    "print(\"the sub of array:\",sub)"
   ]
  },
  {
   "cell_type": "code",
   "execution_count": 6,
   "id": "2c991d21",
   "metadata": {},
   "outputs": [
    {
     "name": "stdout",
     "output_type": "stream",
     "text": [
      "the division of arrays: [ 4.38888889  0.8556701   0.7752809  11.25        0.24242424  2.2\n",
      "  4.625       1.325       2.14814815  7.        ]\n"
     ]
    }
   ],
   "source": [
    "#division\n",
    "div=random_array1/random_array2\n",
    "print(\"the division of arrays:\",div)"
   ]
  },
  {
   "cell_type": "markdown",
   "id": "c410f34e",
   "metadata": {},
   "source": [
    "### Task 2: Pandas Data Analysis Using Pandas, load a dataset of your choice (you can find datasets online or use your own). Clean the data and perform basic data analysis tasks like calculating mean, median, and mode for specific columns.\n"
   ]
  },
  {
   "cell_type": "code",
   "execution_count": 7,
   "id": "87c1cd50",
   "metadata": {},
   "outputs": [],
   "source": [
    "import pandas as pd\n",
    "df=pd.read_csv(r\"C:\\Users\\Shoaib sukhmir\\AI_Data_science\\gpa_study_hours.csv\")"
   ]
  },
  {
   "cell_type": "code",
   "execution_count": 8,
   "id": "210b06bc",
   "metadata": {},
   "outputs": [
    {
     "data": {
      "text/html": [
       "<div>\n",
       "<style scoped>\n",
       "    .dataframe tbody tr th:only-of-type {\n",
       "        vertical-align: middle;\n",
       "    }\n",
       "\n",
       "    .dataframe tbody tr th {\n",
       "        vertical-align: top;\n",
       "    }\n",
       "\n",
       "    .dataframe thead th {\n",
       "        text-align: right;\n",
       "    }\n",
       "</style>\n",
       "<table border=\"1\" class=\"dataframe\">\n",
       "  <thead>\n",
       "    <tr style=\"text-align: right;\">\n",
       "      <th></th>\n",
       "      <th>gpa</th>\n",
       "      <th>study_hours</th>\n",
       "    </tr>\n",
       "  </thead>\n",
       "  <tbody>\n",
       "    <tr>\n",
       "      <th>0</th>\n",
       "      <td>4.00</td>\n",
       "      <td>10.0</td>\n",
       "    </tr>\n",
       "    <tr>\n",
       "      <th>1</th>\n",
       "      <td>3.80</td>\n",
       "      <td>25.0</td>\n",
       "    </tr>\n",
       "    <tr>\n",
       "      <th>2</th>\n",
       "      <td>3.93</td>\n",
       "      <td>45.0</td>\n",
       "    </tr>\n",
       "    <tr>\n",
       "      <th>3</th>\n",
       "      <td>3.40</td>\n",
       "      <td>10.0</td>\n",
       "    </tr>\n",
       "    <tr>\n",
       "      <th>4</th>\n",
       "      <td>3.20</td>\n",
       "      <td>4.0</td>\n",
       "    </tr>\n",
       "    <tr>\n",
       "      <th>...</th>\n",
       "      <td>...</td>\n",
       "      <td>...</td>\n",
       "    </tr>\n",
       "    <tr>\n",
       "      <th>188</th>\n",
       "      <td>3.60</td>\n",
       "      <td>24.0</td>\n",
       "    </tr>\n",
       "    <tr>\n",
       "      <th>189</th>\n",
       "      <td>3.70</td>\n",
       "      <td>12.0</td>\n",
       "    </tr>\n",
       "    <tr>\n",
       "      <th>190</th>\n",
       "      <td>3.84</td>\n",
       "      <td>15.0</td>\n",
       "    </tr>\n",
       "    <tr>\n",
       "      <th>191</th>\n",
       "      <td>3.80</td>\n",
       "      <td>10.0</td>\n",
       "    </tr>\n",
       "    <tr>\n",
       "      <th>192</th>\n",
       "      <td>3.10</td>\n",
       "      <td>15.0</td>\n",
       "    </tr>\n",
       "  </tbody>\n",
       "</table>\n",
       "<p>193 rows × 2 columns</p>\n",
       "</div>"
      ],
      "text/plain": [
       "      gpa  study_hours\n",
       "0    4.00         10.0\n",
       "1    3.80         25.0\n",
       "2    3.93         45.0\n",
       "3    3.40         10.0\n",
       "4    3.20          4.0\n",
       "..    ...          ...\n",
       "188  3.60         24.0\n",
       "189  3.70         12.0\n",
       "190  3.84         15.0\n",
       "191  3.80         10.0\n",
       "192  3.10         15.0\n",
       "\n",
       "[193 rows x 2 columns]"
      ]
     },
     "execution_count": 8,
     "metadata": {},
     "output_type": "execute_result"
    }
   ],
   "source": [
    "df"
   ]
  },
  {
   "cell_type": "code",
   "execution_count": 9,
   "id": "ac1aa2cb",
   "metadata": {},
   "outputs": [
    {
     "data": {
      "text/plain": [
       "gpa            0\n",
       "study_hours    0\n",
       "dtype: int64"
      ]
     },
     "execution_count": 9,
     "metadata": {},
     "output_type": "execute_result"
    }
   ],
   "source": [
    "df.isnull().sum()"
   ]
  },
  {
   "cell_type": "code",
   "execution_count": 11,
   "id": "59720436",
   "metadata": {},
   "outputs": [
    {
     "name": "stdout",
     "output_type": "stream",
     "text": [
      "    gpa  study_hours\n",
      "79  4.3         10.0\n"
     ]
    }
   ],
   "source": [
    "outliers = df[(df['gpa'] < 0) | (df['gpa'] > 4.00)]\n",
    "print(outliers)"
   ]
  },
  {
   "cell_type": "code",
   "execution_count": 14,
   "id": "132d06ca",
   "metadata": {},
   "outputs": [],
   "source": [
    "df.loc[df['gpa']>4,'gpa']=4"
   ]
  },
  {
   "cell_type": "code",
   "execution_count": 15,
   "id": "0f504818",
   "metadata": {},
   "outputs": [
    {
     "name": "stdout",
     "output_type": "stream",
     "text": [
      "Empty DataFrame\n",
      "Columns: [gpa, study_hours]\n",
      "Index: []\n"
     ]
    }
   ],
   "source": [
    "outliers = df[(df['gpa'] < 0) | (df['gpa'] > 4.00)]\n",
    "print(outliers)"
   ]
  },
  {
   "cell_type": "code",
   "execution_count": 16,
   "id": "737caca2",
   "metadata": {},
   "outputs": [
    {
     "data": {
      "text/html": [
       "<div>\n",
       "<style scoped>\n",
       "    .dataframe tbody tr th:only-of-type {\n",
       "        vertical-align: middle;\n",
       "    }\n",
       "\n",
       "    .dataframe tbody tr th {\n",
       "        vertical-align: top;\n",
       "    }\n",
       "\n",
       "    .dataframe thead th {\n",
       "        text-align: right;\n",
       "    }\n",
       "</style>\n",
       "<table border=\"1\" class=\"dataframe\">\n",
       "  <thead>\n",
       "    <tr style=\"text-align: right;\">\n",
       "      <th></th>\n",
       "      <th>gpa</th>\n",
       "      <th>study_hours</th>\n",
       "    </tr>\n",
       "  </thead>\n",
       "  <tbody>\n",
       "    <tr>\n",
       "      <th>0</th>\n",
       "      <td>4.00</td>\n",
       "      <td>10.0</td>\n",
       "    </tr>\n",
       "    <tr>\n",
       "      <th>1</th>\n",
       "      <td>3.80</td>\n",
       "      <td>25.0</td>\n",
       "    </tr>\n",
       "    <tr>\n",
       "      <th>2</th>\n",
       "      <td>3.93</td>\n",
       "      <td>45.0</td>\n",
       "    </tr>\n",
       "    <tr>\n",
       "      <th>3</th>\n",
       "      <td>3.40</td>\n",
       "      <td>10.0</td>\n",
       "    </tr>\n",
       "    <tr>\n",
       "      <th>4</th>\n",
       "      <td>3.20</td>\n",
       "      <td>4.0</td>\n",
       "    </tr>\n",
       "    <tr>\n",
       "      <th>...</th>\n",
       "      <td>...</td>\n",
       "      <td>...</td>\n",
       "    </tr>\n",
       "    <tr>\n",
       "      <th>188</th>\n",
       "      <td>3.60</td>\n",
       "      <td>24.0</td>\n",
       "    </tr>\n",
       "    <tr>\n",
       "      <th>189</th>\n",
       "      <td>3.70</td>\n",
       "      <td>12.0</td>\n",
       "    </tr>\n",
       "    <tr>\n",
       "      <th>190</th>\n",
       "      <td>3.84</td>\n",
       "      <td>15.0</td>\n",
       "    </tr>\n",
       "    <tr>\n",
       "      <th>191</th>\n",
       "      <td>3.80</td>\n",
       "      <td>10.0</td>\n",
       "    </tr>\n",
       "    <tr>\n",
       "      <th>192</th>\n",
       "      <td>3.10</td>\n",
       "      <td>15.0</td>\n",
       "    </tr>\n",
       "  </tbody>\n",
       "</table>\n",
       "<p>193 rows × 2 columns</p>\n",
       "</div>"
      ],
      "text/plain": [
       "      gpa  study_hours\n",
       "0    4.00         10.0\n",
       "1    3.80         25.0\n",
       "2    3.93         45.0\n",
       "3    3.40         10.0\n",
       "4    3.20          4.0\n",
       "..    ...          ...\n",
       "188  3.60         24.0\n",
       "189  3.70         12.0\n",
       "190  3.84         15.0\n",
       "191  3.80         10.0\n",
       "192  3.10         15.0\n",
       "\n",
       "[193 rows x 2 columns]"
      ]
     },
     "execution_count": 16,
     "metadata": {},
     "output_type": "execute_result"
    }
   ],
   "source": [
    "df"
   ]
  },
  {
   "cell_type": "code",
   "execution_count": 17,
   "id": "1683d0b8",
   "metadata": {},
   "outputs": [
    {
     "data": {
      "text/plain": [
       "3.5846113989637307"
      ]
     },
     "execution_count": 17,
     "metadata": {},
     "output_type": "execute_result"
    }
   ],
   "source": [
    "df['gpa'].mean()"
   ]
  },
  {
   "cell_type": "code",
   "execution_count": 18,
   "id": "4003e509",
   "metadata": {},
   "outputs": [
    {
     "data": {
      "text/plain": [
       "0    3.7\n",
       "Name: gpa, dtype: float64"
      ]
     },
     "execution_count": 18,
     "metadata": {},
     "output_type": "execute_result"
    }
   ],
   "source": [
    "df['gpa'].mode()"
   ]
  },
  {
   "cell_type": "code",
   "execution_count": 19,
   "id": "f5c6895a",
   "metadata": {},
   "outputs": [
    {
     "data": {
      "text/plain": [
       "3.62"
      ]
     },
     "execution_count": 19,
     "metadata": {},
     "output_type": "execute_result"
    }
   ],
   "source": [
    "df['gpa'].median()"
   ]
  },
  {
   "cell_type": "markdown",
   "id": "3fcb4fe4",
   "metadata": {},
   "source": [
    "### Using Matplotlib, create a bar chart or histogram to visualize the distribution of a dataset of your choice. Label the axes and add a title to the chart.\n"
   ]
  },
  {
   "cell_type": "code",
   "execution_count": 21,
   "id": "3dd3b554",
   "metadata": {},
   "outputs": [],
   "source": [
    "import matplotlib.pyplot as plt"
   ]
  },
  {
   "cell_type": "code",
   "execution_count": 24,
   "id": "f7c47c57",
   "metadata": {},
   "outputs": [
    {
     "data": {
      "text/plain": [
       "Text(0.5, 1.0, 'relation between study_hours and gpa')"
      ]
     },
     "execution_count": 24,
     "metadata": {},
     "output_type": "execute_result"
    },
    {
     "data": {
      "image/png": "[encoded data removed]",
      "text/plain": [
       "<Figure size 640x480 with 1 Axes>"
      ]
     },
     "metadata": {},
     "output_type": "display_data"
    }
   ],
   "source": [
    "plt.bar(df['study_hours'],df['gpa'])\n",
    "plt.xlabel('Study_hours')\n",
    "plt.ylabel('gpa')\n",
    "plt.title(\"relation between study_hours and gpa\")"
   ]
  },
  {
   "cell_type": "markdown",
   "id": "3fa0240d",
   "metadata": {},
   "source": [
    "### Task 4: NumPy Array Manipulation Create two NumPy arrays and perform operations to concatenate them vertically and horizontally.\n"
   ]
  },
  {
   "cell_type": "code",
   "execution_count": 22,
   "id": "8042689f",
   "metadata": {},
   "outputs": [],
   "source": [
    "import numpy as np\n",
    "np_array1=np.array([[4,8],[7,8]])\n",
    "np_array2=np.array([[5,9]])\n",
    "\n"
   ]
  },
  {
   "cell_type": "code",
   "execution_count": 23,
   "id": "5a1e1d96",
   "metadata": {},
   "outputs": [],
   "source": [
    "vertical_concatenate=np.concatenate((np_array1,np_array2),axis=0)"
   ]
  },
  {
   "cell_type": "code",
   "execution_count": 24,
   "id": "6cbe6721",
   "metadata": {},
   "outputs": [
    {
     "data": {
      "text/plain": [
       "array([[4, 8],\n",
       "       [7, 8],\n",
       "       [5, 9]])"
      ]
     },
     "execution_count": 24,
     "metadata": {},
     "output_type": "execute_result"
    }
   ],
   "source": [
    "vertical_concatenate"
   ]
  },
  {
   "cell_type": "code",
   "execution_count": 25,
   "id": "ff69286f",
   "metadata": {},
   "outputs": [],
   "source": [
    "horizontal_concatenate=np.concatenate((np_array1,np_array2.T),axis=1)"
   ]
  },
  {
   "cell_type": "code",
   "execution_count": 9,
   "id": "ad95b159",
   "metadata": {},
   "outputs": [
    {
     "data": {
      "text/plain": [
       "array([[4, 8, 9, 4, 5, 9, 7, 5],\n",
       "       [7, 8, 2, 3, 4, 5, 6, 3]])"
      ]
     },
     "execution_count": 9,
     "metadata": {},
     "output_type": "execute_result"
    }
   ],
   "source": [
    "horizontal_concatenate"
   ]
  },
  {
   "cell_type": "markdown",
   "id": "3de05c93",
   "metadata": {},
   "source": [
    "### Task 5: Pandas Data Filtering Given a dataset (you can choose one or use your own), use Pandas to filter and extract rows that meet specific criteria (e.g., filtering data for a specific date range).\n"
   ]
  },
  {
   "cell_type": "code",
   "execution_count": 36,
   "id": "a771e841",
   "metadata": {},
   "outputs": [],
   "source": [
    "import pandas as pd\n",
    "df=pd.read_csv(r\"C:\\Users\\Shoaib sukhmir\\AI_Data_science\\gpa_study_hours.csv\")"
   ]
  },
  {
   "cell_type": "code",
   "execution_count": 37,
   "id": "22985126",
   "metadata": {},
   "outputs": [
    {
     "data": {
      "text/html": [
       "<div>\n",
       "<style scoped>\n",
       "    .dataframe tbody tr th:only-of-type {\n",
       "        vertical-align: middle;\n",
       "    }\n",
       "\n",
       "    .dataframe tbody tr th {\n",
       "        vertical-align: top;\n",
       "    }\n",
       "\n",
       "    .dataframe thead th {\n",
       "        text-align: right;\n",
       "    }\n",
       "</style>\n",
       "<table border=\"1\" class=\"dataframe\">\n",
       "  <thead>\n",
       "    <tr style=\"text-align: right;\">\n",
       "      <th></th>\n",
       "      <th>gpa</th>\n",
       "      <th>study_hours</th>\n",
       "    </tr>\n",
       "  </thead>\n",
       "  <tbody>\n",
       "    <tr>\n",
       "      <th>0</th>\n",
       "      <td>4.00</td>\n",
       "      <td>10.0</td>\n",
       "    </tr>\n",
       "    <tr>\n",
       "      <th>1</th>\n",
       "      <td>3.80</td>\n",
       "      <td>25.0</td>\n",
       "    </tr>\n",
       "    <tr>\n",
       "      <th>2</th>\n",
       "      <td>3.93</td>\n",
       "      <td>45.0</td>\n",
       "    </tr>\n",
       "    <tr>\n",
       "      <th>3</th>\n",
       "      <td>3.40</td>\n",
       "      <td>10.0</td>\n",
       "    </tr>\n",
       "    <tr>\n",
       "      <th>4</th>\n",
       "      <td>3.20</td>\n",
       "      <td>4.0</td>\n",
       "    </tr>\n",
       "    <tr>\n",
       "      <th>...</th>\n",
       "      <td>...</td>\n",
       "      <td>...</td>\n",
       "    </tr>\n",
       "    <tr>\n",
       "      <th>188</th>\n",
       "      <td>3.60</td>\n",
       "      <td>24.0</td>\n",
       "    </tr>\n",
       "    <tr>\n",
       "      <th>189</th>\n",
       "      <td>3.70</td>\n",
       "      <td>12.0</td>\n",
       "    </tr>\n",
       "    <tr>\n",
       "      <th>190</th>\n",
       "      <td>3.84</td>\n",
       "      <td>15.0</td>\n",
       "    </tr>\n",
       "    <tr>\n",
       "      <th>191</th>\n",
       "      <td>3.80</td>\n",
       "      <td>10.0</td>\n",
       "    </tr>\n",
       "    <tr>\n",
       "      <th>192</th>\n",
       "      <td>3.10</td>\n",
       "      <td>15.0</td>\n",
       "    </tr>\n",
       "  </tbody>\n",
       "</table>\n",
       "<p>193 rows × 2 columns</p>\n",
       "</div>"
      ],
      "text/plain": [
       "      gpa  study_hours\n",
       "0    4.00         10.0\n",
       "1    3.80         25.0\n",
       "2    3.93         45.0\n",
       "3    3.40         10.0\n",
       "4    3.20          4.0\n",
       "..    ...          ...\n",
       "188  3.60         24.0\n",
       "189  3.70         12.0\n",
       "190  3.84         15.0\n",
       "191  3.80         10.0\n",
       "192  3.10         15.0\n",
       "\n",
       "[193 rows x 2 columns]"
      ]
     },
     "execution_count": 37,
     "metadata": {},
     "output_type": "execute_result"
    }
   ],
   "source": [
    "df"
   ]
  },
  {
   "cell_type": "code",
   "execution_count": 32,
   "id": "9a91d95f",
   "metadata": {},
   "outputs": [],
   "source": [
    "filtered_df=df[df['gpa']==4]"
   ]
  },
  {
   "cell_type": "code",
   "execution_count": 33,
   "id": "cb2dac69",
   "metadata": {},
   "outputs": [
    {
     "data": {
      "text/html": [
       "<div>\n",
       "<style scoped>\n",
       "    .dataframe tbody tr th:only-of-type {\n",
       "        vertical-align: middle;\n",
       "    }\n",
       "\n",
       "    .dataframe tbody tr th {\n",
       "        vertical-align: top;\n",
       "    }\n",
       "\n",
       "    .dataframe thead th {\n",
       "        text-align: right;\n",
       "    }\n",
       "</style>\n",
       "<table border=\"1\" class=\"dataframe\">\n",
       "  <thead>\n",
       "    <tr style=\"text-align: right;\">\n",
       "      <th></th>\n",
       "      <th>gpa</th>\n",
       "      <th>study_hours</th>\n",
       "    </tr>\n",
       "  </thead>\n",
       "  <tbody>\n",
       "    <tr>\n",
       "      <th>0</th>\n",
       "      <td>4</td>\n",
       "      <td>10.0</td>\n",
       "    </tr>\n",
       "    <tr>\n",
       "      <th>1</th>\n",
       "      <td>4</td>\n",
       "      <td>25.0</td>\n",
       "    </tr>\n",
       "    <tr>\n",
       "      <th>2</th>\n",
       "      <td>4</td>\n",
       "      <td>45.0</td>\n",
       "    </tr>\n",
       "    <tr>\n",
       "      <th>3</th>\n",
       "      <td>4</td>\n",
       "      <td>10.0</td>\n",
       "    </tr>\n",
       "    <tr>\n",
       "      <th>4</th>\n",
       "      <td>4</td>\n",
       "      <td>4.0</td>\n",
       "    </tr>\n",
       "    <tr>\n",
       "      <th>...</th>\n",
       "      <td>...</td>\n",
       "      <td>...</td>\n",
       "    </tr>\n",
       "    <tr>\n",
       "      <th>188</th>\n",
       "      <td>4</td>\n",
       "      <td>24.0</td>\n",
       "    </tr>\n",
       "    <tr>\n",
       "      <th>189</th>\n",
       "      <td>4</td>\n",
       "      <td>12.0</td>\n",
       "    </tr>\n",
       "    <tr>\n",
       "      <th>190</th>\n",
       "      <td>4</td>\n",
       "      <td>15.0</td>\n",
       "    </tr>\n",
       "    <tr>\n",
       "      <th>191</th>\n",
       "      <td>4</td>\n",
       "      <td>10.0</td>\n",
       "    </tr>\n",
       "    <tr>\n",
       "      <th>192</th>\n",
       "      <td>4</td>\n",
       "      <td>15.0</td>\n",
       "    </tr>\n",
       "  </tbody>\n",
       "</table>\n",
       "<p>193 rows × 2 columns</p>\n",
       "</div>"
      ],
      "text/plain": [
       "     gpa  study_hours\n",
       "0      4         10.0\n",
       "1      4         25.0\n",
       "2      4         45.0\n",
       "3      4         10.0\n",
       "4      4          4.0\n",
       "..   ...          ...\n",
       "188    4         24.0\n",
       "189    4         12.0\n",
       "190    4         15.0\n",
       "191    4         10.0\n",
       "192    4         15.0\n",
       "\n",
       "[193 rows x 2 columns]"
      ]
     },
     "execution_count": 33,
     "metadata": {},
     "output_type": "execute_result"
    }
   ],
   "source": [
    "filtered_df"
   ]
  },
  {
   "cell_type": "markdown",
   "id": "bc6e3636",
   "metadata": {},
   "source": [
    "### Task 6: Matplotlib Customization Create a line plot or scatter plot using Matplotlib and customize it by adding a legend, different marker styles, and changing the line colors.\n"
   ]
  },
  {
   "cell_type": "code",
   "execution_count": 46,
   "id": "267dc315",
   "metadata": {},
   "outputs": [
    {
     "data": {
      "text/plain": [
       "Text(0, 0.5, 'study_hours')"
      ]
     },
     "execution_count": 46,
     "metadata": {},
     "output_type": "execute_result"
    },
    {
     "data": {
      "image/png": "[encoded data removed]",
      "text/plain": [
       "<Figure size 640x480 with 1 Axes>"
      ]
     },
     "metadata": {},
     "output_type": "display_data"
    }
   ],
   "source": [
    "import matplotlib.pyplot as plt\n",
    "plt.scatter(df['gpa'],df['study_hours'],label=\"scatter plot\",color=\"red\",marker='s')\n",
    "plt.title(\"relation between gpa and study_hours\")\n",
    "plt.xlabel(\"gpa\")\n",
    "plt.ylabel(\"study_hours\")"
   ]
  },
  {
   "cell_type": "markdown",
   "id": "cba0581a",
   "metadata": {},
   "source": [
    "### Task 7: NumPy Statistical AnalysisUse NumPy to calculate descriptive statistics like variance, standard deviation, and correlation coefficients for a dataset of your choice (you can find datasets online or use your own).\n"
   ]
  },
  {
   "cell_type": "code",
   "execution_count": 47,
   "id": "2ec9ee09",
   "metadata": {},
   "outputs": [],
   "source": [
    "import pandas as pd\n",
    "import numpy as np\n",
    "df=pd.read_csv(r\"C:\\Users\\Shoaib sukhmir\\AI_Data_science\\gpa_study_hours.csv\")\n",
    "np_array1=np.array(df['gpa'])"
   ]
  },
  {
   "cell_type": "code",
   "execution_count": 48,
   "id": "cf71b76c",
   "metadata": {},
   "outputs": [],
   "source": [
    "np_array2=np.array(df['study_hours'])"
   ]
  },
  {
   "cell_type": "code",
   "execution_count": 49,
   "id": "eb05baa5",
   "metadata": {},
   "outputs": [
    {
     "data": {
      "text/plain": [
       "0.08107747510000268"
      ]
     },
     "execution_count": 49,
     "metadata": {},
     "output_type": "execute_result"
    }
   ],
   "source": [
    "#variance of gpa\n",
    "variance=np.var(np_array1)\n",
    "variance"
   ]
  },
  {
   "cell_type": "code",
   "execution_count": 51,
   "id": "3a22c7f2",
   "metadata": {},
   "outputs": [
    {
     "data": {
      "text/plain": [
       "129.49038900373165"
      ]
     },
     "execution_count": 51,
     "metadata": {},
     "output_type": "execute_result"
    }
   ],
   "source": [
    "#variance of study_hours\n",
    "variance1=np.var(np_array2)\n",
    "variance1"
   ]
  },
  {
   "cell_type": "code",
   "execution_count": 52,
   "id": "bbd3edc4",
   "metadata": {},
   "outputs": [
    {
     "name": "stdout",
     "output_type": "stream",
     "text": [
      "The standard deviation of gpa is: 0.28474106676066707\n"
     ]
    }
   ],
   "source": [
    "#for standard deviation\n",
    "dav_gpa=np.std(df['gpa'])\n",
    "print(\"The standard deviation of gpa is:\",dav_gpa)"
   ]
  },
  {
   "cell_type": "code",
   "execution_count": 53,
   "id": "320b6b0b",
   "metadata": {},
   "outputs": [
    {
     "name": "stdout",
     "output_type": "stream",
     "text": [
      "The standard deviation of study_hours: 11.379384385973237\n"
     ]
    }
   ],
   "source": [
    "dav_studyhrs=np.std(df['study_hours'])\n",
    "print(\"The standard deviation of study_hours:\",dav_studyhrs)"
   ]
  },
  {
   "cell_type": "code",
   "execution_count": 56,
   "id": "e1efd214",
   "metadata": {},
   "outputs": [
    {
     "name": "stdout",
     "output_type": "stream",
     "text": [
      "The correlation cofficent between gpa and study_hours: 0.1330137774213701\n"
     ]
    }
   ],
   "source": [
    "#for correlation cofficent\n",
    "correlation=np.corrcoef(df['gpa'],df['study_hours'])[0,1]\n",
    "#correlation = df['gpa'].corr(df['study_hours'])\n",
    "print(\"The correlation cofficent between gpa and study_hours:\",correlation)\n"
   ]
  },
  {
   "cell_type": "markdown",
   "id": "ecfbf3b7",
   "metadata": {},
   "source": [
    "### Task 8: Pandas Data Grouping Given a dataset (you can choose one or use your own), use Pandas to group data by a specific column and calculate summary statistics (e.g., mean, median) for each group.\n"
   ]
  },
  {
   "cell_type": "code",
   "execution_count": 3,
   "id": "3a30b26e",
   "metadata": {},
   "outputs": [
    {
     "data": {
      "text/html": [
       "<div>\n",
       "<style scoped>\n",
       "    .dataframe tbody tr th:only-of-type {\n",
       "        vertical-align: middle;\n",
       "    }\n",
       "\n",
       "    .dataframe tbody tr th {\n",
       "        vertical-align: top;\n",
       "    }\n",
       "\n",
       "    .dataframe thead th {\n",
       "        text-align: right;\n",
       "    }\n",
       "</style>\n",
       "<table border=\"1\" class=\"dataframe\">\n",
       "  <thead>\n",
       "    <tr style=\"text-align: right;\">\n",
       "      <th></th>\n",
       "      <th>InvoiceNo</th>\n",
       "      <th>StockCode</th>\n",
       "      <th>Description</th>\n",
       "      <th>Quantity</th>\n",
       "      <th>InvoiceDate</th>\n",
       "      <th>UnitPrice</th>\n",
       "      <th>CustomerID</th>\n",
       "      <th>Country</th>\n",
       "    </tr>\n",
       "  </thead>\n",
       "  <tbody>\n",
       "    <tr>\n",
       "      <th>0</th>\n",
       "      <td>536365</td>\n",
       "      <td>85123A</td>\n",
       "      <td>WHITE HANGING HEART T-LIGHT HOLDER</td>\n",
       "      <td>6</td>\n",
       "      <td>2010-12-01</td>\n",
       "      <td>2.55</td>\n",
       "      <td>17850.0</td>\n",
       "      <td>United Kingdom</td>\n",
       "    </tr>\n",
       "    <tr>\n",
       "      <th>1</th>\n",
       "      <td>536365</td>\n",
       "      <td>71053</td>\n",
       "      <td>WHITE METAL LANTERN</td>\n",
       "      <td>6</td>\n",
       "      <td>2010-12-01</td>\n",
       "      <td>3.39</td>\n",
       "      <td>17850.0</td>\n",
       "      <td>United Kingdom</td>\n",
       "    </tr>\n",
       "    <tr>\n",
       "      <th>2</th>\n",
       "      <td>536365</td>\n",
       "      <td>84406B</td>\n",
       "      <td>CREAM CUPID HEARTS COAT HANGER</td>\n",
       "      <td>8</td>\n",
       "      <td>2010-12-01</td>\n",
       "      <td>2.75</td>\n",
       "      <td>17850.0</td>\n",
       "      <td>United Kingdom</td>\n",
       "    </tr>\n",
       "    <tr>\n",
       "      <th>3</th>\n",
       "      <td>536365</td>\n",
       "      <td>84029G</td>\n",
       "      <td>KNITTED UNION FLAG HOT WATER BOTTLE</td>\n",
       "      <td>6</td>\n",
       "      <td>2010-12-01</td>\n",
       "      <td>3.39</td>\n",
       "      <td>17850.0</td>\n",
       "      <td>United Kingdom</td>\n",
       "    </tr>\n",
       "    <tr>\n",
       "      <th>4</th>\n",
       "      <td>536365</td>\n",
       "      <td>84029E</td>\n",
       "      <td>RED WOOLLY HOTTIE WHITE HEART.</td>\n",
       "      <td>6</td>\n",
       "      <td>2010-12-01</td>\n",
       "      <td>3.39</td>\n",
       "      <td>17850.0</td>\n",
       "      <td>United Kingdom</td>\n",
       "    </tr>\n",
       "    <tr>\n",
       "      <th>...</th>\n",
       "      <td>...</td>\n",
       "      <td>...</td>\n",
       "      <td>...</td>\n",
       "      <td>...</td>\n",
       "      <td>...</td>\n",
       "      <td>...</td>\n",
       "      <td>...</td>\n",
       "      <td>...</td>\n",
       "    </tr>\n",
       "    <tr>\n",
       "      <th>995</th>\n",
       "      <td>536520</td>\n",
       "      <td>22469</td>\n",
       "      <td>HEART OF WICKER SMALL</td>\n",
       "      <td>1</td>\n",
       "      <td>2010-12-01</td>\n",
       "      <td>1.65</td>\n",
       "      <td>14729.0</td>\n",
       "      <td>United Kingdom</td>\n",
       "    </tr>\n",
       "    <tr>\n",
       "      <th>996</th>\n",
       "      <td>536520</td>\n",
       "      <td>22100</td>\n",
       "      <td>SKULLS SQUARE TISSUE BOX</td>\n",
       "      <td>1</td>\n",
       "      <td>2010-12-01</td>\n",
       "      <td>1.25</td>\n",
       "      <td>14729.0</td>\n",
       "      <td>United Kingdom</td>\n",
       "    </tr>\n",
       "    <tr>\n",
       "      <th>997</th>\n",
       "      <td>536520</td>\n",
       "      <td>22096</td>\n",
       "      <td>PINK PAISLEY SQUARE TISSUE BOX</td>\n",
       "      <td>1</td>\n",
       "      <td>2010-12-01</td>\n",
       "      <td>1.25</td>\n",
       "      <td>14729.0</td>\n",
       "      <td>United Kingdom</td>\n",
       "    </tr>\n",
       "    <tr>\n",
       "      <th>998</th>\n",
       "      <td>536520</td>\n",
       "      <td>22583</td>\n",
       "      <td>PACK OF 6 HANDBAG GIFT BOXES</td>\n",
       "      <td>1</td>\n",
       "      <td>2010-12-01</td>\n",
       "      <td>2.55</td>\n",
       "      <td>14729.0</td>\n",
       "      <td>United Kingdom</td>\n",
       "    </tr>\n",
       "    <tr>\n",
       "      <th>999</th>\n",
       "      <td>536520</td>\n",
       "      <td>21358</td>\n",
       "      <td>TOAST ITS - HAPPY BIRTHDAY</td>\n",
       "      <td>2</td>\n",
       "      <td>2010-12-01</td>\n",
       "      <td>1.25</td>\n",
       "      <td>14729.0</td>\n",
       "      <td>United Kingdom</td>\n",
       "    </tr>\n",
       "  </tbody>\n",
       "</table>\n",
       "<p>1000 rows × 8 columns</p>\n",
       "</div>"
      ],
      "text/plain": [
       "    InvoiceNo StockCode                          Description  Quantity  \\\n",
       "0      536365    85123A   WHITE HANGING HEART T-LIGHT HOLDER         6   \n",
       "1      536365     71053                  WHITE METAL LANTERN         6   \n",
       "2      536365    84406B       CREAM CUPID HEARTS COAT HANGER         8   \n",
       "3      536365    84029G  KNITTED UNION FLAG HOT WATER BOTTLE         6   \n",
       "4      536365    84029E       RED WOOLLY HOTTIE WHITE HEART.         6   \n",
       "..        ...       ...                                  ...       ...   \n",
       "995    536520     22469                HEART OF WICKER SMALL         1   \n",
       "996    536520     22100             SKULLS SQUARE TISSUE BOX         1   \n",
       "997    536520     22096      PINK PAISLEY SQUARE TISSUE BOX          1   \n",
       "998    536520     22583         PACK OF 6 HANDBAG GIFT BOXES         1   \n",
       "999    536520     21358           TOAST ITS - HAPPY BIRTHDAY         2   \n",
       "\n",
       "    InvoiceDate  UnitPrice  CustomerID         Country  \n",
       "0    2010-12-01       2.55     17850.0  United Kingdom  \n",
       "1    2010-12-01       3.39     17850.0  United Kingdom  \n",
       "2    2010-12-01       2.75     17850.0  United Kingdom  \n",
       "3    2010-12-01       3.39     17850.0  United Kingdom  \n",
       "4    2010-12-01       3.39     17850.0  United Kingdom  \n",
       "..          ...        ...         ...             ...  \n",
       "995  2010-12-01       1.65     14729.0  United Kingdom  \n",
       "996  2010-12-01       1.25     14729.0  United Kingdom  \n",
       "997  2010-12-01       1.25     14729.0  United Kingdom  \n",
       "998  2010-12-01       2.55     14729.0  United Kingdom  \n",
       "999  2010-12-01       1.25     14729.0  United Kingdom  \n",
       "\n",
       "[1000 rows x 8 columns]"
      ]
     },
     "execution_count": 3,
     "metadata": {},
     "output_type": "execute_result"
    }
   ],
   "source": [
    "import pandas as pd\n",
    "df=pd.read_csv(r\"C:\\Users\\Shoaib sukhmir\\AI_Data_science\\OnlineRetail_final_1.csv\")\n",
    "df"
   ]
  },
  {
   "cell_type": "code",
   "execution_count": 74,
   "id": "6cb44765",
   "metadata": {},
   "outputs": [
    {
     "data": {
      "text/plain": [
       "Country\n",
       "Australia         5.278571\n",
       "France            2.764500\n",
       "Netherlands       8.425000\n",
       "United Kingdom    2.999035\n",
       "Name: UnitPrice, dtype: float64"
      ]
     },
     "execution_count": 74,
     "metadata": {},
     "output_type": "execute_result"
    }
   ],
   "source": [
    "group=df.groupby('Country')['UnitPrice'].mean()\n",
    "group"
   ]
  },
  {
   "cell_type": "code",
   "execution_count": 76,
   "id": "37e2c0d1",
   "metadata": {},
   "outputs": [
    {
     "data": {
      "text/plain": [
       "Country\n",
       "Australia         5.700\n",
       "France            1.950\n",
       "Netherlands       8.425\n",
       "United Kingdom    2.100\n",
       "Name: UnitPrice, dtype: float64"
      ]
     },
     "execution_count": 76,
     "metadata": {},
     "output_type": "execute_result"
    }
   ],
   "source": [
    "group1=df.groupby('Country')['UnitPrice'].median()\n",
    "group1"
   ]
  },
  {
   "cell_type": "markdown",
   "id": "158705b8",
   "metadata": {},
   "source": [
    "### Task 9: Matplotlib SubplotsCreate a Matplotlib figure with multiple subplots to display different aspects of a dataset or related datasets (you can choose the dataset and the type of plots).\n"
   ]
  },
  {
   "cell_type": "code",
   "execution_count": 18,
   "id": "1ad6d7d1",
   "metadata": {},
   "outputs": [
    {
     "data": {
      "text/plain": [
       "<matplotlib.collections.PathCollection at 0x1ec36507550>"
      ]
     },
     "execution_count": 18,
     "metadata": {},
     "output_type": "execute_result"
    },
    {
     "data": {
      "image/png": "[encoded data removed]",
      "text/plain": [
       "<Figure size 640x480 with 3 Axes>"
      ]
     },
     "metadata": {},
     "output_type": "display_data"
    }
   ],
   "source": [
    "import matplotlib.pyplot as plt\n",
    "plt.subplot(2,2,1)\n",
    "plt.bar(df['Country'],df['UnitPrice'])\n",
    "\n",
    "plt.subplot(2,2,2)\n",
    "plt.scatter(df['Quantity'],df['UnitPrice'],color='red')\n",
    "\n",
    "plt.subplot(2,2,3)\n",
    "plt.scatter(df['Country'],df['Quantity'],color='yellow')"
   ]
  },
  {
   "cell_type": "markdown",
   "id": "ae3ec9d0",
   "metadata": {},
   "source": [
    "### Task 10: Pandas Data Visualization Choose a dataset of your choice and create various visualizations (e.g., bar charts, pie charts, scatter plots) using Pandas to represent different aspects of the data, such as trends or distributions.\n"
   ]
  },
  {
   "cell_type": "code",
   "execution_count": 22,
   "id": "84807a21",
   "metadata": {},
   "outputs": [
    {
     "data": {
      "text/html": [
       "<div>\n",
       "<style scoped>\n",
       "    .dataframe tbody tr th:only-of-type {\n",
       "        vertical-align: middle;\n",
       "    }\n",
       "\n",
       "    .dataframe tbody tr th {\n",
       "        vertical-align: top;\n",
       "    }\n",
       "\n",
       "    .dataframe thead th {\n",
       "        text-align: right;\n",
       "    }\n",
       "</style>\n",
       "<table border=\"1\" class=\"dataframe\">\n",
       "  <thead>\n",
       "    <tr style=\"text-align: right;\">\n",
       "      <th></th>\n",
       "      <th>R&amp;D Spend</th>\n",
       "      <th>Administration</th>\n",
       "      <th>Marketing Spend</th>\n",
       "      <th>State</th>\n",
       "      <th>Profit</th>\n",
       "    </tr>\n",
       "  </thead>\n",
       "  <tbody>\n",
       "    <tr>\n",
       "      <th>0</th>\n",
       "      <td>165349.20</td>\n",
       "      <td>136897.80</td>\n",
       "      <td>471784.10</td>\n",
       "      <td>New York</td>\n",
       "      <td>192261.83</td>\n",
       "    </tr>\n",
       "    <tr>\n",
       "      <th>1</th>\n",
       "      <td>162597.70</td>\n",
       "      <td>151377.59</td>\n",
       "      <td>443898.53</td>\n",
       "      <td>California</td>\n",
       "      <td>191792.06</td>\n",
       "    </tr>\n",
       "    <tr>\n",
       "      <th>2</th>\n",
       "      <td>153441.51</td>\n",
       "      <td>101145.55</td>\n",
       "      <td>407934.54</td>\n",
       "      <td>Florida</td>\n",
       "      <td>191050.39</td>\n",
       "    </tr>\n",
       "    <tr>\n",
       "      <th>3</th>\n",
       "      <td>144372.41</td>\n",
       "      <td>118671.85</td>\n",
       "      <td>383199.62</td>\n",
       "      <td>New York</td>\n",
       "      <td>182901.99</td>\n",
       "    </tr>\n",
       "    <tr>\n",
       "      <th>4</th>\n",
       "      <td>142107.34</td>\n",
       "      <td>91391.77</td>\n",
       "      <td>366168.42</td>\n",
       "      <td>Florida</td>\n",
       "      <td>166187.94</td>\n",
       "    </tr>\n",
       "    <tr>\n",
       "      <th>5</th>\n",
       "      <td>131876.90</td>\n",
       "      <td>99814.71</td>\n",
       "      <td>362861.36</td>\n",
       "      <td>New York</td>\n",
       "      <td>156991.12</td>\n",
       "    </tr>\n",
       "    <tr>\n",
       "      <th>6</th>\n",
       "      <td>134615.46</td>\n",
       "      <td>147198.87</td>\n",
       "      <td>127716.82</td>\n",
       "      <td>California</td>\n",
       "      <td>156122.51</td>\n",
       "    </tr>\n",
       "    <tr>\n",
       "      <th>7</th>\n",
       "      <td>130298.13</td>\n",
       "      <td>145530.06</td>\n",
       "      <td>323876.68</td>\n",
       "      <td>Florida</td>\n",
       "      <td>155752.60</td>\n",
       "    </tr>\n",
       "    <tr>\n",
       "      <th>8</th>\n",
       "      <td>120542.52</td>\n",
       "      <td>148718.95</td>\n",
       "      <td>311613.29</td>\n",
       "      <td>New York</td>\n",
       "      <td>152211.77</td>\n",
       "    </tr>\n",
       "    <tr>\n",
       "      <th>9</th>\n",
       "      <td>123334.88</td>\n",
       "      <td>108679.17</td>\n",
       "      <td>304981.62</td>\n",
       "      <td>California</td>\n",
       "      <td>149759.96</td>\n",
       "    </tr>\n",
       "  </tbody>\n",
       "</table>\n",
       "</div>"
      ],
      "text/plain": [
       "   R&D Spend  Administration  Marketing Spend       State     Profit\n",
       "0  165349.20       136897.80        471784.10    New York  192261.83\n",
       "1  162597.70       151377.59        443898.53  California  191792.06\n",
       "2  153441.51       101145.55        407934.54     Florida  191050.39\n",
       "3  144372.41       118671.85        383199.62    New York  182901.99\n",
       "4  142107.34        91391.77        366168.42     Florida  166187.94\n",
       "5  131876.90        99814.71        362861.36    New York  156991.12\n",
       "6  134615.46       147198.87        127716.82  California  156122.51\n",
       "7  130298.13       145530.06        323876.68     Florida  155752.60\n",
       "8  120542.52       148718.95        311613.29    New York  152211.77\n",
       "9  123334.88       108679.17        304981.62  California  149759.96"
      ]
     },
     "execution_count": 22,
     "metadata": {},
     "output_type": "execute_result"
    }
   ],
   "source": [
    "import pandas as pd\n",
    "df=pd.read_csv(r\"C:\\Users\\Shoaib sukhmir\\AI_Data_science\\1000_Companies.csv\")\n",
    "data=df.head(10)\n",
    "data"
   ]
  },
  {
   "cell_type": "code",
   "execution_count": 26,
   "id": "395321f0",
   "metadata": {},
   "outputs": [
    {
     "data": {
      "text/plain": [
       "([<matplotlib.patches.Wedge at 0x1ec3ae1f4f0>,\n",
       "  <matplotlib.patches.Wedge at 0x1ec3ae1f400>,\n",
       "  <matplotlib.patches.Wedge at 0x1ec3ae4c0a0>,\n",
       "  <matplotlib.patches.Wedge at 0x1ec3ae4c730>,\n",
       "  <matplotlib.patches.Wedge at 0x1ec3ae4cdc0>,\n",
       "  <matplotlib.patches.Wedge at 0x1ec3ae4d450>,\n",
       "  <matplotlib.patches.Wedge at 0x1ec3ae4dae0>,\n",
       "  <matplotlib.patches.Wedge at 0x1ec3ae4dea0>,\n",
       "  <matplotlib.patches.Wedge at 0x1ec3ae4e530>,\n",
       "  <matplotlib.patches.Wedge at 0x1ec3ae4ebc0>],\n",
       " [Text(-0.38373148334866697, 1.03089773919969, 'New York'),\n",
       "  Text(-0.9639420178252255, 0.5299205471304477, 'California'),\n",
       "  Text(-1.0765354601620598, -0.2259898294473942, 'Florida'),\n",
       "  Text(-0.6837654338691805, -0.8616639898740643, 'New York'),\n",
       "  Text(-0.026158343207422587, -1.0996889292343734, 'Florida'),\n",
       "  Text(0.5984040757333806, -0.9229910953772408, 'New York'),\n",
       "  Text(1.0065097005781918, -0.44377722186024693, 'California'),\n",
       "  Text(1.0854610377439595, 0.17825357090338106, 'Florida'),\n",
       "  Text(0.8170816734829279, 0.7364628564010122, 'New York'),\n",
       "  Text(0.3014184743860805, 1.0578973973400105, 'California')],\n",
       " [Text(-0.2093080818265456, 0.5623078577452854, '11.3%'),\n",
       "  Text(-0.5257865551773957, 0.2890475711620623, '11.3%'),\n",
       "  Text(-0.5872011600883962, -0.12326717969857864, '11.3%'),\n",
       "  Text(-0.37296296392864386, -0.46999853993130775, '10.8%'),\n",
       "  Text(-0.014268187204048682, -0.5998303250369309, '9.8%'),\n",
       "  Text(0.32640222312729844, -0.5034496883875859, '9.3%'),\n",
       "  Text(0.5490052912244682, -0.24206030283286192, '9.2%'),\n",
       "  Text(0.5920696569512506, 0.0972292204927533, '9.2%'),\n",
       "  Text(0.44568091280886973, 0.40170701258237024, '9.0%'),\n",
       "  Text(0.16441007693786205, 0.577034944003642, '8.8%')])"
      ]
     },
     "execution_count": 26,
     "metadata": {},
     "output_type": "execute_result"
    },
    {
     "data": {
      "image/png": "[encoded data removed]",
      "text/plain": [
       "<Figure size 400x400 with 1 Axes>"
      ]
     },
     "metadata": {},
     "output_type": "display_data"
    }
   ],
   "source": [
    "plt.figure(figsize=(4, 4))\n",
    "plt.pie(data['Profit'], labels=data['State'], autopct='%1.1f%%', startangle=90)"
   ]
  },
  {
   "cell_type": "code",
   "execution_count": 27,
   "id": "d334e656",
   "metadata": {},
   "outputs": [],
   "source": [
    "import pandas as pd\n",
    "import seaborn as sns\n",
    "iris=sns.load_dataset(\"iris\")"
   ]
  },
  {
   "cell_type": "code",
   "execution_count": 28,
   "id": "233e10df",
   "metadata": {},
   "outputs": [
    {
     "data": {
      "text/html": [
       "<div>\n",
       "<style scoped>\n",
       "    .dataframe tbody tr th:only-of-type {\n",
       "        vertical-align: middle;\n",
       "    }\n",
       "\n",
       "    .dataframe tbody tr th {\n",
       "        vertical-align: top;\n",
       "    }\n",
       "\n",
       "    .dataframe thead th {\n",
       "        text-align: right;\n",
       "    }\n",
       "</style>\n",
       "<table border=\"1\" class=\"dataframe\">\n",
       "  <thead>\n",
       "    <tr style=\"text-align: right;\">\n",
       "      <th></th>\n",
       "      <th>sepal_length</th>\n",
       "      <th>sepal_width</th>\n",
       "      <th>petal_length</th>\n",
       "      <th>petal_width</th>\n",
       "      <th>species</th>\n",
       "    </tr>\n",
       "  </thead>\n",
       "  <tbody>\n",
       "    <tr>\n",
       "      <th>0</th>\n",
       "      <td>5.1</td>\n",
       "      <td>3.5</td>\n",
       "      <td>1.4</td>\n",
       "      <td>0.2</td>\n",
       "      <td>setosa</td>\n",
       "    </tr>\n",
       "    <tr>\n",
       "      <th>1</th>\n",
       "      <td>4.9</td>\n",
       "      <td>3.0</td>\n",
       "      <td>1.4</td>\n",
       "      <td>0.2</td>\n",
       "      <td>setosa</td>\n",
       "    </tr>\n",
       "    <tr>\n",
       "      <th>2</th>\n",
       "      <td>4.7</td>\n",
       "      <td>3.2</td>\n",
       "      <td>1.3</td>\n",
       "      <td>0.2</td>\n",
       "      <td>setosa</td>\n",
       "    </tr>\n",
       "    <tr>\n",
       "      <th>3</th>\n",
       "      <td>4.6</td>\n",
       "      <td>3.1</td>\n",
       "      <td>1.5</td>\n",
       "      <td>0.2</td>\n",
       "      <td>setosa</td>\n",
       "    </tr>\n",
       "    <tr>\n",
       "      <th>4</th>\n",
       "      <td>5.0</td>\n",
       "      <td>3.6</td>\n",
       "      <td>1.4</td>\n",
       "      <td>0.2</td>\n",
       "      <td>setosa</td>\n",
       "    </tr>\n",
       "    <tr>\n",
       "      <th>...</th>\n",
       "      <td>...</td>\n",
       "      <td>...</td>\n",
       "      <td>...</td>\n",
       "      <td>...</td>\n",
       "      <td>...</td>\n",
       "    </tr>\n",
       "    <tr>\n",
       "      <th>145</th>\n",
       "      <td>6.7</td>\n",
       "      <td>3.0</td>\n",
       "      <td>5.2</td>\n",
       "      <td>2.3</td>\n",
       "      <td>virginica</td>\n",
       "    </tr>\n",
       "    <tr>\n",
       "      <th>146</th>\n",
       "      <td>6.3</td>\n",
       "      <td>2.5</td>\n",
       "      <td>5.0</td>\n",
       "      <td>1.9</td>\n",
       "      <td>virginica</td>\n",
       "    </tr>\n",
       "    <tr>\n",
       "      <th>147</th>\n",
       "      <td>6.5</td>\n",
       "      <td>3.0</td>\n",
       "      <td>5.2</td>\n",
       "      <td>2.0</td>\n",
       "      <td>virginica</td>\n",
       "    </tr>\n",
       "    <tr>\n",
       "      <th>148</th>\n",
       "      <td>6.2</td>\n",
       "      <td>3.4</td>\n",
       "      <td>5.4</td>\n",
       "      <td>2.3</td>\n",
       "      <td>virginica</td>\n",
       "    </tr>\n",
       "    <tr>\n",
       "      <th>149</th>\n",
       "      <td>5.9</td>\n",
       "      <td>3.0</td>\n",
       "      <td>5.1</td>\n",
       "      <td>1.8</td>\n",
       "      <td>virginica</td>\n",
       "    </tr>\n",
       "  </tbody>\n",
       "</table>\n",
       "<p>150 rows × 5 columns</p>\n",
       "</div>"
      ],
      "text/plain": [
       "     sepal_length  sepal_width  petal_length  petal_width    species\n",
       "0             5.1          3.5           1.4          0.2     setosa\n",
       "1             4.9          3.0           1.4          0.2     setosa\n",
       "2             4.7          3.2           1.3          0.2     setosa\n",
       "3             4.6          3.1           1.5          0.2     setosa\n",
       "4             5.0          3.6           1.4          0.2     setosa\n",
       "..            ...          ...           ...          ...        ...\n",
       "145           6.7          3.0           5.2          2.3  virginica\n",
       "146           6.3          2.5           5.0          1.9  virginica\n",
       "147           6.5          3.0           5.2          2.0  virginica\n",
       "148           6.2          3.4           5.4          2.3  virginica\n",
       "149           5.9          3.0           5.1          1.8  virginica\n",
       "\n",
       "[150 rows x 5 columns]"
      ]
     },
     "execution_count": 28,
     "metadata": {},
     "output_type": "execute_result"
    }
   ],
   "source": [
    "iris"
   ]
  },
  {
   "cell_type": "code",
   "execution_count": 29,
   "id": "ab66d9f9",
   "metadata": {},
   "outputs": [],
   "source": [
    "sns.set_style(\"whitegrid\")"
   ]
  },
  {
   "cell_type": "code",
   "execution_count": 30,
   "id": "e7055f96",
   "metadata": {},
   "outputs": [
    {
     "data": {
      "text/plain": [
       "<Figure size 800x800 with 0 Axes>"
      ]
     },
     "execution_count": 30,
     "metadata": {},
     "output_type": "execute_result"
    },
    {
     "data": {
      "text/plain": [
       "<Figure size 800x800 with 0 Axes>"
      ]
     },
     "metadata": {},
     "output_type": "display_data"
    }
   ],
   "source": [
    "plt.figure(figsize=(8,8))"
   ]
  },
  {
   "cell_type": "code",
   "execution_count": 32,
   "id": "2094e7ee",
   "metadata": {},
   "outputs": [
    {
     "data": {
      "text/plain": [
       "Text(0.5, 1.0, 'count of species')"
      ]
     },
     "execution_count": 32,
     "metadata": {},
     "output_type": "execute_result"
    },
    {
     "data": {
      "image/png": "[encoded data removed]",
      "text/plain": [
       "<Figure size 640x480 with 1 Axes>"
      ]
     },
     "metadata": {},
     "output_type": "display_data"
    }
   ],
   "source": [
    "sns.countplot(data=iris,x='species')\n",
    "plt.title(\"count of species\")\n"
   ]
  },
  {
   "cell_type": "code",
   "execution_count": 34,
   "id": "0399c7cc",
   "metadata": {},
   "outputs": [
    {
     "data": {
      "image/png": "[encoded data removed]",
      "text/plain": [
       "<Figure size 800x600 with 1 Axes>"
      ]
     },
     "metadata": {},
     "output_type": "display_data"
    }
   ],
   "source": [
    "plt.figure(figsize=(8, 6))\n",
    "sns.scatterplot(data=iris, x='sepal_length', y='sepal_width', hue='species', palette='Set2')\n",
    "plt.title('Scatter Plot of Sepal Length vs. Sepal Width')\n",
    "plt.show()"
   ]
  },
  {
   "cell_type": "code",
   "execution_count": null,
   "id": "847562de",
   "metadata": {},
   "outputs": [],
   "source": []
  }
 ],
 "metadata": {
  "kernelspec": {
   "display_name": "Python 3 (ipykernel)",
   "language": "python",
   "name": "python3"
  },
  "language_info": {
   "codemirror_mode": {
    "name": "ipython",
    "version": 3
   },
   "file_extension": ".py",
   "mimetype": "text/x-python",
   "name": "python",
   "nbconvert_exporter": "python",
   "pygments_lexer": "ipython3",
   "version": "3.10.9"
  }
 },
 "nbformat": 4,
 "nbformat_minor": 5
}
